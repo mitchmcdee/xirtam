{
 "cells": [
  {
   "cell_type": "code",
   "execution_count": null,
   "metadata": {
    "scrolled": false
   },
   "outputs": [],
   "source": [
    "\"\"\"\n",
    "Helper script which can be used to debug and evaluate TimTamNet model quality. \n",
    "\"\"\"\n",
    "from os.path import join\n",
    "import numpy as np\n",
    "from skimage.io import imread\n",
    "import matplotlib.pyplot as plt\n",
    "from tqdm import tqdm\n",
    "from utils import get_data\n",
    "from timtamnet import TimTamNet"
   ]
  },
  {
   "cell_type": "code",
   "execution_count": null,
   "metadata": {
    "scrolled": false
   },
   "outputs": [],
   "source": [
    "# Constants.\n",
    "base_directory = \"../../\"\n",
    "model_path = join(base_directory, \"out/models/\")\n",
    "robot_directory = join(base_directory, \"out/data/robot--4209387126734636757/\")"
   ]
  },
  {
   "cell_type": "code",
   "execution_count": null,
   "metadata": {
    "scrolled": false
   },
   "outputs": [],
   "source": [
    "# Get test data.\n",
    "_, x_test, _, y_test = get_data(robot_directory)\n",
    "input_shape = x_train.shape[1:]\n",
    "image_size = input_shape[:-1]"
   ]
  },
  {
   "cell_type": "code",
   "execution_count": null,
   "metadata": {
    "scrolled": false
   },
   "outputs": [],
   "source": [
    "# Load TimTamNet and weights\n",
    "model = TimTamNet(input_shape=input_shape)\n",
    "model.load_weights(model_path)"
   ]
  },
  {
   "cell_type": "code",
   "execution_count": null,
   "metadata": {
    "scrolled": false
   },
   "outputs": [],
   "source": [
    "# Constants\n",
    "sample_size = 6\n",
    "num_rows = 3\n",
    "num_cols = sample_size\n",
    "\n",
    "# Get random sample from test data.\n",
    "np.random.seed()\n",
    "indices = np.random.permutation(len(x_test))[:sample_size]\n",
    "original = x_test[indices]\n",
    "truth = y_test[indices]\n",
    "# Note: if colours/contrast look incorrect, its just because of matplotlib auto-setting vmin and vmax.\n",
    "# This only really occurs when the robot finds a path to the goal without invalid footsteps, which\n",
    "# throws off the data range of colours.\n",
    "plot_samples = original[:sample_size] + prediction[:sample_size] + truth[:sample_size]\n",
    "\n",
    "# Predict through model.\n",
    "prediction = model.predict(original)\n",
    "\n",
    "# Visually evaluate results.\n",
    "axes = plt.subplot(num_rows=num_rows, num_cols=num_cols)\n",
    "axes.get_xaxis().set_visible(False)\n",
    "axes.get_yaxis().set_visible(False)\n",
    "plt.gray()\n",
    "for row in axes:\n",
    "    for col in row:\n",
    "        col.plot(plot_samples[i].reshape(*image_size))\n",
    "plt.show()"
   ]
  },
  {
   "cell_type": "code",
   "execution_count": null,
   "metadata": {},
   "outputs": [],
   "source": []
  }
 ],
 "metadata": {
  "kernelspec": {
   "display_name": "Python 3",
   "language": "python",
   "name": "python3"
  },
  "language_info": {
   "codemirror_mode": {
    "name": "ipython",
    "version": 3
   },
   "file_extension": ".py",
   "mimetype": "text/x-python",
   "name": "python",
   "nbconvert_exporter": "python",
   "pygments_lexer": "ipython3",
   "version": "3.6.6"
  }
 },
 "nbformat": 4,
 "nbformat_minor": 2
}
