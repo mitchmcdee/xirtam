{
 "cells": [
  {
   "cell_type": "code",
   "execution_count": null,
   "metadata": {
    "scrolled": false
   },
   "outputs": [],
   "source": [
    "\"\"\"\n",
    "Helper script which can be used to debug and evaluate TimTamNet model quality. \n",
    "\"\"\"\n",
    "from os.path import join\n",
    "import numpy as np\n",
    "from skimage.io import imread\n",
    "import matplotlib.pyplot as plt\n",
    "from tqdm import tqdm\n",
    "from utils import get_data\n",
    "from timtamnet import TimTamNet"
   ]
  },
  {
   "cell_type": "code",
   "execution_count": null,
   "metadata": {
    "scrolled": false
   },
   "outputs": [],
   "source": [
    "# Constants.\n",
    "base_directory = \"../../\"\n",
    "model_path = join(base_directory, \"out/models/weights.01-0.514160.hdf5\")\n",
    "robot_directory = join(base_directory, \"out/data/robot--4209387126734636757/\")"
   ]
  },
  {
   "cell_type": "code",
   "execution_count": null,
   "metadata": {
    "scrolled": false
   },
   "outputs": [],
   "source": [
    "# Get test data.\n",
    "_, x_test, _, y_test = get_data(robot_directory)\n",
    "input_shape = x_test.shape[1:]\n",
    "image_size = input_shape[:-1]"
   ]
  },
  {
   "cell_type": "code",
   "execution_count": null,
   "metadata": {
    "scrolled": false
   },
   "outputs": [],
   "source": [
    "# Load TimTamNet and weights\n",
    "model = TimTamNet(input_shape=input_shape)\n",
    "model.load_weights(model_path)"
   ]
  },
  {
   "cell_type": "code",
   "execution_count": null,
   "metadata": {},
   "outputs": [],
   "source": [
    "# Constants\n",
    "num_samples = 6\n",
    "num_rows = 3\n",
    "num_cols = num_samples\n",
    "inch_size = 2.7\n",
    "\n",
    "# Get random sample from test data.\n",
    "np.random.seed()\n",
    "indices = np.random.permutation(len(x_test))[:num_samples]\n",
    "original = x_test[indices]\n",
    "truth = y_test[indices]\n",
    "\n",
    "# Predict through model.\n",
    "prediction = model.predict(original)"
   ]
  },
  {
   "cell_type": "code",
   "execution_count": null,
   "metadata": {
    "scrolled": false
   },
   "outputs": [],
   "source": [
    "# Visually evaluate results.\n",
    "plt.figure(figsize=(num_cols * inch_size, num_rows * inch_size))\n",
    "plt.gray()\n",
    "for i in range(num_samples):\n",
    "    plt.subplot(num_rows, num_cols, i + 1 + 0 * num_cols)\n",
    "    plt.imshow(original[i].reshape(*image_size), vmin=0, vmax=1)\n",
    "    plt.subplot(num_rows, num_cols, i + 1 + 1 * num_cols)\n",
    "    plt.imshow(truth[i].reshape(*image_size), vmin=0, vmax=1)\n",
    "    plt.subplot(num_rows, num_cols, i + 1 + 2 * num_cols)\n",
    "    plt.imshow(prediction[i].reshape(*image_size), vmin=0, vmax=1)\n",
    "plt.show()"
   ]
  }
 ],
 "metadata": {
  "kernelspec": {
   "display_name": "Python 3",
   "language": "python",
   "name": "python3"
  }
 },
 "nbformat": 4,
 "nbformat_minor": 2
}
