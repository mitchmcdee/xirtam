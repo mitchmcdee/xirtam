{
 "cells": [
  {
   "cell_type": "code",
   "execution_count": null,
   "metadata": {
    "scrolled": false
   },
   "outputs": [],
   "source": [
    "\"\"\"\n",
    "Helper script which can be used to debug and evaluate TimTamNet model quality. \n",
    "\"\"\"\n",
    "from os.path import join\n",
    "import numpy as np\n",
    "from skimage.io import imread\n",
    "import matplotlib.pyplot as plt\n",
    "from tqdm import tqdm\n",
    "from utils import get_data\n",
    "from keras.models import load_model"
   ]
  },
  {
   "cell_type": "code",
   "execution_count": null,
   "metadata": {
    "scrolled": false
   },
   "outputs": [],
   "source": [
    "# Constants.\n",
    "base_directory = \"../../\"\n",
    "model_path = join(base_directory, \"out/models/timtamnet.02-0.7291.hdf5\")\n",
    "robot_directory = join(base_directory, \"out/robot--4209387126734636757/\")"
   ]
  },
  {
   "cell_type": "code",
   "execution_count": null,
   "metadata": {},
   "outputs": [],
   "source": [
    "# Load TimTamNet and weights\n",
    "timtamnet = load_model(model_path)"
   ]
  },
  {
   "cell_type": "code",
   "execution_count": null,
   "metadata": {
    "scrolled": false
   },
   "outputs": [],
   "source": [
    "# Get test data.\n",
    "_, x_test, _, y_test = get_data(robot_directory)\n",
    "input_shape = x_test.shape[1:]\n",
    "image_size = input_shape[:-1]"
   ]
  },
  {
   "cell_type": "code",
   "execution_count": null,
   "metadata": {},
   "outputs": [],
   "source": [
    "# Constants\n",
    "num_samples = 6\n",
    "num_rows = 3\n",
    "num_cols = num_samples\n",
    "inch_size = 2.7\n",
    "\n",
    "# Get random sample from test data.\n",
    "np.random.seed()\n",
    "indices = np.random.permutation(len(x_test))[:num_samples]\n",
    "original = x_test[indices]\n",
    "truth = y_test[indices]"
   ]
  },
  {
   "cell_type": "code",
   "execution_count": null,
   "metadata": {
    "scrolled": false
   },
   "outputs": [],
   "source": [
    "# Predict.\n",
    "prediction = timtamnet.predict(original)\n",
    "# Visually evaluate a random sample of results.\n",
    "plt.figure(figsize=(num_cols * inch_size, num_rows * inch_size))\n",
    "plt.gray()\n",
    "for i in range(num_samples):\n",
    "    plt.subplot(num_rows, num_cols, i + 1 + 0 * num_cols)\n",
    "    plt.imshow(original[i].reshape(*image_size), vmin=0, vmax=1)\n",
    "    plt.subplot(num_rows, num_cols, i + 1 + 1 * num_cols)\n",
    "    plt.imshow(truth[i].reshape(*image_size), vmin=0, vmax=1)\n",
    "    plt.subplot(num_rows, num_cols, i + 1 + 2 * num_cols)\n",
    "    plt.imshow(prediction[i].reshape(*image_size), vmin=0, vmax=1)\n",
    "plt.show()"
   ]
  },
  {
   "cell_type": "code",
   "execution_count": null,
   "metadata": {},
   "outputs": [],
   "source": []
  }
 ],
 "metadata": {
  "kernelspec": {
   "display_name": "Python 3",
   "language": "python",
   "name": "python3"
  },
  "language_info": {
   "codemirror_mode": {
    "name": "ipython",
    "version": 3
   },
   "file_extension": ".py",
   "mimetype": "text/x-python",
   "name": "python",
   "nbconvert_exporter": "python",
   "pygments_lexer": "ipython3",
   "version": "3.6.6"
  }
 },
 "nbformat": 4,
 "nbformat_minor": 2
}
