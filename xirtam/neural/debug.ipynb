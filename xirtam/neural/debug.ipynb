{
 "cells": [
  {
   "cell_type": "code",
   "execution_count": 1,
   "metadata": {
    "scrolled": false
   },
   "outputs": [
    {
     "name": "stderr",
     "output_type": "stream",
     "text": [
      "Using TensorFlow backend.\n",
      "/Library/Frameworks/Python.framework/Versions/3.6/lib/python3.6/importlib/_bootstrap.py:219: RuntimeWarning: numpy.dtype size changed, may indicate binary incompatibility. Expected 96, got 88\n",
      "  return f(*args, **kwds)\n",
      "/Library/Frameworks/Python.framework/Versions/3.6/lib/python3.6/importlib/_bootstrap.py:219: RuntimeWarning: numpy.dtype size changed, may indicate binary incompatibility. Expected 96, got 88\n",
      "  return f(*args, **kwds)\n"
     ]
    }
   ],
   "source": [
    "import os\n",
    "import numpy as np\n",
    "from keras.layers import Conv2D, MaxPooling2D, UpSampling2D, Dropout, Conv2DTranspose\n",
    "from keras.models import Sequential, Model\n",
    "from PIL import Image\n",
    "from skimage.io import imread\n",
    "from sklearn.model_selection import train_test_split\n",
    "import matplotlib.pyplot as plt\n",
    "from tqdm import tqdm\n",
    "from keras.callbacks import ModelCheckpoint, ReduceLROnPlateau\n",
    "from keras.applications import VGG16, ResNet50, InceptionV3, InceptionResNetV2"
   ]
  },
  {
   "cell_type": "code",
   "execution_count": 35,
   "metadata": {
    "scrolled": false
   },
   "outputs": [],
   "source": [
    "# Constants\n",
    "model_path = \"../../out/models/weights.45-0.63.hdf5\"\n",
    "base_data_dir = \"../../out/robot--4209387126734636757/\"\n",
    "image_size = (128, 128)\n",
    "input_shape = (*image_size, 1)\n",
    "test_split = 0.1"
   ]
  },
  {
   "cell_type": "code",
   "execution_count": 26,
   "metadata": {
    "scrolled": false
   },
   "outputs": [
    {
     "name": "stderr",
     "output_type": "stream",
     "text": [
      "100%|██████████| 1043/1043 [02:57<00:00,  5.86it/s]\n"
     ]
    }
   ],
   "source": [
    "# Rangle data\n",
    "x = []\n",
    "y = []\n",
    "for world_name in tqdm(list(os.listdir(base_data_dir))):\n",
    "    world_dir = os.path.join(base_data_dir, world_name)\n",
    "    world_x = []\n",
    "    world_y = []\n",
    "    for file_name in os.listdir(world_dir):\n",
    "        _, extension = os.path.splitext(file_name)\n",
    "        if extension != \".bmp\":\n",
    "            continue\n",
    "        image = imread(os.path.join(world_dir, file_name), as_gray=True)\n",
    "        if file_name == \"regions.bmp\":\n",
    "            world_y.append(image)\n",
    "        else:\n",
    "            world_x.append(image)\n",
    "    world_y *= len(world_x)\n",
    "    x.extend(world_x)\n",
    "    y.extend(world_y)\n",
    "x = np.array(x).astype(\"float32\") / 255\n",
    "y = np.array(y).astype(\"float32\") / 255\n",
    "x = np.reshape(x, (len(x), *input_shape))\n",
    "y = np.reshape(y, (len(y), *input_shape))\n",
    "x_train, x_test, y_train, y_test = train_test_split(x, y, test_size=test_split, shuffle=False)"
   ]
  },
  {
   "cell_type": "code",
   "execution_count": 36,
   "metadata": {
    "scrolled": false
   },
   "outputs": [],
   "source": [
    "# Build fully convolutional network\n",
    "fcn = Sequential()\n",
    "fcn.add(Conv2D(64, (3, 3), padding=\"same\", activation=\"relu\", input_shape=input_shape))\n",
    "fcn.add(Conv2D(64, (3, 3), padding=\"same\", activation=\"relu\"))\n",
    "fcn.add(MaxPooling2D((2, 2), strides=(2, 2)))\n",
    "fcn.add(Conv2D(128, (3, 3), padding=\"same\", activation=\"relu\"))\n",
    "fcn.add(Conv2D(128, (3, 3), padding=\"same\", activation=\"relu\"))\n",
    "fcn.add(MaxPooling2D((2, 2), strides=(2, 2)))\n",
    "fcn.add(Conv2D(128, (3, 3), padding=\"same\", activation=\"relu\"))\n",
    "fcn.add(Conv2D(128, (3, 3), padding=\"same\", activation=\"relu\"))\n",
    "fcn.add(UpSampling2D((2, 2)))\n",
    "fcn.add(Conv2D(128, (3, 3), padding=\"same\", activation=\"relu\"))\n",
    "fcn.add(Conv2D(128, (3, 3), padding=\"same\", activation=\"relu\"))\n",
    "fcn.add(UpSampling2D((2, 2)))\n",
    "fcn.add(Conv2D(1, (1, 1), padding=\"same\", activation=\"sigmoid\"))\n",
    "\n",
    "# # Other networks to test\n",
    "# base_model = ResNet50(include_top=False, weights=None, input_shape=input_shape)\n",
    "# # base_model = VGG16(include_top=False, weights=None, input_shape=input_shape)\n",
    "# # base_model = InceptionV3(include_top=False, weights=None, input_shape=input_shape)\n",
    "# # base_model = InceptionResNetV2(include_top=False, weights=None, input_shape=input_shape)\n",
    "# x = base_model.output\n",
    "# x = UpSampling2D((4, 4))(x)\n",
    "# x = Conv2D(64, (3, 3), padding=\"same\", activation=\"relu\")(x)\n",
    "# x = Conv2D(64, (3, 3), padding=\"same\", activation=\"relu\")(x)\n",
    "# x = UpSampling2D((4, 4))(x)\n",
    "# x = Conv2D(128, (3, 3), padding=\"same\", activation=\"relu\")(x)\n",
    "# x = Conv2D(128, (3, 3), padding=\"same\", activation=\"relu\")(x)\n",
    "# x = UpSampling2D((2, 2))(x)\n",
    "# x = Conv2D(1, (1, 1), activation=\"sigmoid\")(x)\n",
    "# fcn = Model(input=base_model.input, output=x)\n",
    "\n",
    "fcn.load_weights(model_path)"
   ]
  },
  {
   "cell_type": "code",
   "execution_count": 52,
   "metadata": {
    "scrolled": false
   },
   "outputs": [
    {
     "data": {
      "image/png": "[encoded data removed]",
      "text/plain": [
       "<Figure size 1440x432 with 18 Axes>"
      ]
     },
     "metadata": {
      "needs_background": "light"
     },
     "output_type": "display_data"
    }
   ],
   "source": [
    "# Visually evaluate results\n",
    "n = 6\n",
    "np.random.seed()\n",
    "indices = np.random.permutation(len(x_test))[:n + 1]\n",
    "original = x_test[indices]\n",
    "truth = y_test[indices]\n",
    "prediction = fcn.predict(original)\n",
    "plt.figure(figsize=(20, 6))\n",
    "plt.gray()\n",
    "for i in range(1, n + 1):\n",
    "    # Note: if colours look incorrect, its because of matplotlib auto-setting vmin and vmax.\n",
    "    # display original\n",
    "    ax = plt.subplot(3, n, i + 0 * n)\n",
    "    plt.imshow(original[i].reshape(*image_size))\n",
    "    ax.get_xaxis().set_visible(False)\n",
    "    ax.get_yaxis().set_visible(False)\n",
    "\n",
    "    # display truth\n",
    "    ax = plt.subplot(3, n, i + 1 * n)\n",
    "    plt.imshow(truth[i].reshape(*image_size))\n",
    "    ax.get_xaxis().set_visible(False)\n",
    "    ax.get_yaxis().set_visible(False)\n",
    "\n",
    "    # display prediction\n",
    "    ax = plt.subplot(3, n, i + 2 * n)\n",
    "    plt.imshow(prediction[i].reshape(*image_size))\n",
    "    ax.get_xaxis().set_visible(False)\n",
    "    ax.get_yaxis().set_visible(False)\n",
    "plt.show()"
   ]
  }
 ],
 "metadata": {
  "kernelspec": {
   "display_name": "Python 3",
   "language": "python",
   "name": "python3"
  }
 },
 "nbformat": 4,
 "nbformat_minor": 2
}
